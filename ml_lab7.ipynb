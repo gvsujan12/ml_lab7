{
 "cells": [
  {
   "cell_type": "code",
   "execution_count": 13,
   "id": "3566f545",
   "metadata": {},
   "outputs": [
    {
     "name": "stdout",
     "output_type": "stream",
     "text": [
      "Accuracy: 1.0\n"
     ]
    }
   ],
   "source": [
    "#1\n",
    "from sklearn import svm\n",
    "from sklearn.model_selection import train_test_split\n",
    "from sklearn.metrics import accuracy_score\n",
    "from sklearn.preprocessing import OneHotEncoder\n",
    "from sklearn.impute import SimpleImputer\n",
    "from sklearn.compose import ColumnTransformer\n",
    "from sklearn.pipeline import make_pipeline\n",
    "import pandas as pd\n",
    "\n",
    "# Load excel sheet\n",
    "df = pd.read_excel(\"D:\\Dataset to B.tech.xlsx\")\n",
    "\n",
    "# Separate features (X) and target variable (y)\n",
    "X = df.drop('Label', axis=1)  # Assuming 'Label' is the target variable\n",
    "y = df['Label']\n",
    "\n",
    "# Assuming X_train and y_train are training data and labels\n",
    "# Replace them with your actual training data\n",
    "X_train, X_test, y_train, y_test = train_test_split(X, y, test_size=0.2, random_state=42)\n",
    "\n",
    "# Define categorical features for one-hot encoding\n",
    "categorical_features = ['Domain']  # Replace with your actual categorical features\n",
    "\n",
    "# Create a preprocessor using ColumnTransformer and OneHotEncoder\n",
    "preprocessor = ColumnTransformer(\n",
    "    transformers=[\n",
    "        ('cat', OneHotEncoder(handle_unknown='ignore'), categorical_features),\n",
    "        ('num', SimpleImputer(strategy='mean'), X.select_dtypes(include=['number']).columns)\n",
    "    ])\n",
    "\n",
    "# Create a pipeline with preprocessor and SVM classifier\n",
    "clf = make_pipeline(preprocessor, svm.SVC(kernel='linear'))\n",
    "\n",
    "# Train the SVM on the training data\n",
    "clf.fit(X_train, y_train)\n",
    "\n",
    "# Make predictions on the test set\n",
    "y_pred = clf.predict(X_test)\n",
    "\n",
    "# Evaluate the accuracy\n",
    "accuracy = accuracy_score(y_test, y_pred)\n",
    "print(f\"Accuracy: {accuracy}\")\n",
    "\n",
    "\n",
    "\n"
   ]
  },
  {
   "cell_type": "code",
   "execution_count": 18,
   "id": "8e6f2698",
   "metadata": {},
   "outputs": [
    {
     "name": "stdout",
     "output_type": "stream",
     "text": [
      "Accuracy on the test set: 1.00\n"
     ]
    }
   ],
   "source": [
    "#a2 \n",
    "from sklearn.metrics import accuracy_score\n",
    "\n",
    "# Assuming clf is your trained SVM model\n",
    "# X_test is your test set features, y_test is the corresponding labels\n",
    "\n",
    "# Make predictions on the test set\n",
    "y_pred = clf.predict(X_test)\n",
    "\n",
    "# Calculate accuracy\n",
    "accuracy = accuracy_score(y_test, y_pred)\n",
    "\n",
    "print(f\"Accuracy on the test set: {accuracy:.2f}\")\n"
   ]
  },
  {
   "cell_type": "code",
   "execution_count": 20,
   "id": "c9e016e3",
   "metadata": {},
   "outputs": [
    {
     "data": {
      "text/plain": [
       "array([ 6,  0,  2,  0,  8,  0,  1,  5,  6,  6,  5,  1,  0,  5,  0,  0,  4,\n",
       "        1,  1,  6,  2,  0,  0,  1,  0,  1,  9,  0,  0,  1,  2,  0,  1,  1,\n",
       "        0,  0,  9,  0,  1,  2,  6,  2,  1,  0,  0,  0,  2,  1,  1,  0,  1,\n",
       "        1,  0,  2,  2,  2,  5,  1,  1,  0,  8,  1,  0,  1,  2,  2,  0,  1,\n",
       "        1,  1,  0,  0,  0,  1,  5,  0,  1,  1,  6,  0,  1,  3,  1,  6,  0,\n",
       "        0,  1,  1,  2,  0,  1,  0,  0,  0,  0,  1,  6,  2,  0,  0,  0,  1,\n",
       "        1,  1,  0,  2,  0,  2,  0,  2,  0,  0,  0,  1,  0,  1,  0,  0,  5,\n",
       "        0,  1,  1,  2,  1,  0,  6,  2,  0,  1,  5,  0,  0,  1,  6,  0,  1,\n",
       "        0,  0,  1,  2,  2,  7,  0,  1,  0,  2,  0,  4,  1,  9,  9,  0,  1,\n",
       "        1,  1,  5,  6,  1,  1,  6,  1,  0,  0,  1,  1,  1, 10,  6,  0,  1,\n",
       "        1,  1,  5,  1,  0,  0,  0,  0,  9,  6], dtype=int64)"
      ]
     },
     "execution_count": 20,
     "metadata": {},
     "output_type": "execute_result"
    }
   ],
   "source": [
    "#3\n",
    "# Assuming clf is your trained SVM model\n",
    "# X_test is your test set features, y_test is the corresponding labels\n",
    "\n",
    "# Use predict function to get class predictions\n",
    "class_predictions = clf.predict(X_test)\n",
    "\n",
    "clf.predict(X_test)\n",
    "\n"
   ]
  },
  {
   "cell_type": "code",
   "execution_count": 25,
   "id": "1867bcb7",
   "metadata": {},
   "outputs": [
    {
     "name": "stdout",
     "output_type": "stream",
     "text": [
      "Accuracy with linear kernel: 0.90\n",
      "Accuracy with poly kernel: 0.95\n",
      "Accuracy with rbf kernel: 0.95\n",
      "Accuracy with sigmoid kernel: 0.15\n"
     ]
    }
   ],
   "source": [
    "from sklearn.svm import SVC\n",
    "from sklearn.metrics import accuracy_score\n",
    "from sklearn.model_selection import train_test_split\n",
    "import numpy as np\n",
    "\n",
    "# Assuming you have your data (X and y) ready\n",
    "# For demonstration purposes, let's generate random data\n",
    "np.random.seed(42)\n",
    "X = np.random.rand(100, 2)\n",
    "y = (X[:, 0] + X[:, 1] > 1).astype(int)\n",
    "\n",
    "# Split the data into training and test sets\n",
    "X_train, X_test, y_train, y_test = train_test_split(X, y, test_size=0.2, random_state=42)\n",
    "\n",
    "# List of kernel functions to experiment with\n",
    "kernel_functions = ['linear', 'poly', 'rbf', 'sigmoid']\n",
    "\n",
    "for kernel in kernel_functions:\n",
    "    # Create SVM classifier with the specified kernel\n",
    "    clf = SVC(kernel=kernel, random_state=42)\n",
    "    \n",
    "    # Train the SVM model\n",
    "    clf.fit(X_train, y_train)\n",
    "    \n",
    "    # Make predictions on the test set\n",
    "    y_pred = clf.predict(X_test)\n",
    "    \n",
    "    # Calculate accuracy\n",
    "    accuracy = accuracy_score(y_test, y_pred)\n",
    "    \n",
    "    # Print the accuracy for each kernel\n",
    "    print(f\"Accuracy with {kernel} kernel: {accuracy:.2f}\")\n"
   ]
  },
  {
   "cell_type": "code",
   "execution_count": null,
   "id": "d61a9c51",
   "metadata": {},
   "outputs": [],
   "source": []
  }
 ],
 "metadata": {
  "kernelspec": {
   "display_name": "Python 3 (ipykernel)",
   "language": "python",
   "name": "python3"
  },
  "language_info": {
   "codemirror_mode": {
    "name": "ipython",
    "version": 3
   },
   "file_extension": ".py",
   "mimetype": "text/x-python",
   "name": "python",
   "nbconvert_exporter": "python",
   "pygments_lexer": "ipython3",
   "version": "3.11.4"
  }
 },
 "nbformat": 4,
 "nbformat_minor": 5
}
